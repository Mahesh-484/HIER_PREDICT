{
 "cells": [
  {
   "cell_type": "code",
   "execution_count": 1,
   "id": "0c674eef-78ec-4fe4-9b56-9898ccf568ea",
   "metadata": {},
   "outputs": [
    {
     "name": "stdout",
     "output_type": "stream",
     "text": [
      "Accuracy: 0.9990801308258381\n",
      "              precision    recall  f1-score   support\n",
      "\n",
      "           0       1.00      1.00      1.00        59\n",
      "           1       0.99      1.00      0.99       574\n",
      "           2       1.00      1.00      1.00      9137\n",
      "           3       1.00      1.00      1.00        14\n",
      "\n",
      "    accuracy                           1.00      9784\n",
      "   macro avg       1.00      1.00      1.00      9784\n",
      "weighted avg       1.00      1.00      1.00      9784\n",
      "\n",
      "Model saved as RandomForest_Classifier.pkl\n"
     ]
    }
   ],
   "source": [
    "import pandas as pd\n",
    "from sklearn.ensemble import RandomForestClassifier\n",
    "from sklearn.model_selection import train_test_split\n",
    "from sklearn.metrics import accuracy_score, classification_report\n",
    "import joblib\n",
    "from sklearn.preprocessing import Normalizer\n",
    "\n",
    "data = pd.read_csv(\"Data_used.csv\")\n",
    "\n",
    "normal = Normalizer()\n",
    "data_scaled = normal.fit_transform(data)\n",
    "\n",
    "X = data_scaled\n",
    "target_col = 'Cluster'\n",
    "y = data[target_col]\n",
    "\n",
    "X_train, X_test, y_train, y_test = train_test_split(X, y, test_size=0.2, random_state=42, stratify=y)\n",
    "\n",
    "classifier = RandomForestClassifier(n_estimators=100, random_state=42)\n",
    "classifier.fit(X_train, y_train)\n",
    "\n",
    "y_pred = classifier.predict(X_test)\n",
    "print(\"Accuracy:\", accuracy_score(y_test, y_pred))\n",
    "print(classification_report(y_test, y_pred))\n",
    "\n",
    "joblib.dump(classifier, \"RF_Classifier.pkl\")\n",
    "print(\"Model saved as RandomForest_Classifier.pkl\")\n"
   ]
  },
  {
   "cell_type": "code",
   "execution_count": null,
   "id": "77a04c3d-aa6e-4c14-a937-b1ebd0b0ebff",
   "metadata": {},
   "outputs": [],
   "source": []
  }
 ],
 "metadata": {
  "kernelspec": {
   "display_name": "Python 3 (ipykernel)",
   "language": "python",
   "name": "python3"
  },
  "language_info": {
   "codemirror_mode": {
    "name": "ipython",
    "version": 3
   },
   "file_extension": ".py",
   "mimetype": "text/x-python",
   "name": "python",
   "nbconvert_exporter": "python",
   "pygments_lexer": "ipython3",
   "version": "3.12.7"
  }
 },
 "nbformat": 4,
 "nbformat_minor": 5
}
